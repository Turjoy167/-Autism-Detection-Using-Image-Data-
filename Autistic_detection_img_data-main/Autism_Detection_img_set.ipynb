{
 "cells": [
  {
   "cell_type": "code",
   "execution_count": null,
   "id": "108f14e8",
   "metadata": {},
   "outputs": [],
   "source": [
    "from tensorflow.keras.preprocessing.image import ImageDataGenerator\n",
    "from keras.layers import Dense, Conv2D, MaxPool2D , Flatten, GlobalMaxPooling2D, Dropout\n",
    "from keras import optimizers , layers, applications\n",
    "from tensorflow.keras.preprocessing import image\n",
    "from keras.applications.vgg16 import VGG16\n",
    "from keras.applications.vgg19 import VGG19\n",
    "import tensorflow as tf\n",
    "from keras.models import Model\n",
    "from tf_explain.core.activations import ExtractActivations\n",
    "from tensorflow.keras.applications.xception import decode_predictions\n",
    "%matplotlib inline\n",
    "from keras.models import Sequential\n",
    "import matplotlib.pyplot as plt\n",
    "import cv2\n",
    "import numpy as np\n",
    "import os"
   ]
  },
  {
   "cell_type": "code",
   "execution_count": null,
   "id": "db716f9e",
   "metadata": {},
   "outputs": [],
   "source": [
    "train = ImageDataGenerator(rescale=1/255, shear_range=0.2, zoom_range=0.2,horizontal_flip=True)\n",
    "valid = ImageDataGenerator(rescale=1/255,shear_range=0.2, zoom_range=0.2,horizontal_flip=True)"
   ]
  },
  {
   "cell_type": "code",
   "execution_count": null,
   "id": "d06dd134",
   "metadata": {},
   "outputs": [],
   "source": [
    "train_set = train.flow_from_directory('H:/Course Problems/CSE-438/AutismDataset/train',\n",
    "                                      target_size=(200,200), \n",
    "                                    class_mode='binary' )\n"
   ]
  },
  {
   "cell_type": "code",
   "execution_count": null,
   "id": "c8402929",
   "metadata": {},
   "outputs": [],
   "source": [
    "train_set.class_indices"
   ]
  },
  {
   "cell_type": "code",
   "execution_count": null,
   "id": "bdbb76f6",
   "metadata": {},
   "outputs": [],
   "source": [
    "train_set.classes"
   ]
  },
  {
   "cell_type": "code",
   "execution_count": null,
   "id": "f3f69628",
   "metadata": {},
   "outputs": [],
   "source": [
    "validation = valid.flow_from_directory('H:/Course Problems/CSE-438/AutismDataset/valid',\n",
    "                                      target_size=(200,200),\n",
    "                                    class_mode='binary' )"
   ]
  },
  {
   "cell_type": "code",
   "execution_count": null,
   "id": "0e861589",
   "metadata": {},
   "outputs": [],
   "source": [
    "validation.class_indices"
   ]
  },
  {
   "cell_type": "code",
   "execution_count": null,
   "id": "8383a106",
   "metadata": {},
   "outputs": [],
   "source": [
    "validation.classes"
   ]
  },
  {
   "cell_type": "markdown",
   "id": "836ad478",
   "metadata": {},
   "source": [
    "# Proposed Model"
   ]
  },
  {
   "cell_type": "code",
   "execution_count": null,
   "id": "06536016",
   "metadata": {},
   "outputs": [],
   "source": [
    "model = tf.keras.models.Sequential([tf.keras.layers.Conv2D(128,(3,3),activation=\"relu\",input_shape=(200,200,3)),\n",
    "                                    tf.keras.layers.MaxPool2D(2,2),\n",
    "                                    tf.keras.layers.Conv2D(256,(3,3),activation=\"relu\"),\n",
    "                                    tf.keras.layers.MaxPool2D(2,2),\n",
    "                    \n",
    "                                    tf.keras.layers.Flatten(),\n",
    "                                    \n",
    "                                    tf.keras.layers.Dense(512,activation=\"relu\"), \n",
    "                                    tf.keras.layers.Dense(100,activation=\"relu\"),  \n",
    "                                                         \n",
    "                                   tf.keras.layers.Dense(1,activation=\"sigmoid\")\n",
    "                                   ])"
   ]
  },
  {
   "cell_type": "markdown",
   "id": "fefd2894",
   "metadata": {},
   "source": [
    "# VGG16 Model"
   ]
  },
  {
   "cell_type": "code",
   "execution_count": null,
   "id": "bd1cc92a",
   "metadata": {},
   "outputs": [],
   "source": [
    "pre_trained_model = VGG16(input_shape=(200,200,3), include_top=False, weights=\"imagenet\")"
   ]
  },
  {
   "cell_type": "code",
   "execution_count": null,
   "id": "29d3e529",
   "metadata": {},
   "outputs": [],
   "source": [
    "last_layer = pre_trained_model.get_layer('block5_pool')\n",
    "last_output = last_layer.output\n",
    "\n",
    "# Flatten the output layer to 1 dimension\n",
    "x = GlobalMaxPooling2D()(last_output)\n",
    "# Add a fully connected layer with 512 hidden units and ReLU activation\n",
    "x = Dense(512, activation='relu')(x)\n",
    "# Add a dropout rate of 0.5\n",
    "x = Dropout(0.5)(x)\n",
    "# Add a final sigmoid layer for classification\n",
    "x = layers.Dense(1, activation='sigmoid')(x)\n",
    "\n",
    "model = Model(pre_trained_model.input, x)"
   ]
  },
  {
   "cell_type": "markdown",
   "id": "3dd1935b",
   "metadata": {},
   "source": [
    "# VGG19 Model"
   ]
  },
  {
   "cell_type": "code",
   "execution_count": null,
   "id": "f3639481",
   "metadata": {},
   "outputs": [],
   "source": [
    "pre_trained_model = VGG19(input_shape=(200,200,3), include_top=False, weights=\"imagenet\")"
   ]
  },
  {
   "cell_type": "code",
   "execution_count": null,
   "id": "cd9f8e93",
   "metadata": {},
   "outputs": [],
   "source": [
    "last_layer = pre_trained_model.get_layer('block5_pool')\n",
    "last_output = last_layer.output\n",
    "\n",
    "x = GlobalMaxPooling2D()(last_output)\n",
    "\n",
    "x = Dense(512, activation='relu')(x)\n",
    "\n",
    "x = Dropout(0.5)(x)\n",
    "\n",
    "x = layers.Dense(1, activation='sigmoid')(x)\n",
    "\n",
    "model = Model(pre_trained_model.input, x)"
   ]
  },
  {
   "cell_type": "markdown",
   "id": "037a12c9",
   "metadata": {},
   "source": [
    "# Xception Model"
   ]
  },
  {
   "cell_type": "code",
   "execution_count": null,
   "id": "9ea8d316",
   "metadata": {},
   "outputs": [],
   "source": [
    "##Xception\n",
    "pre_model=tf.keras.applications.xception.Xception(weights='imagenet',include_top=True)"
   ]
  },
  {
   "cell_type": "code",
   "execution_count": null,
   "id": "7f94ce3f",
   "metadata": {},
   "outputs": [],
   "source": [
    "last_layer = pre_model.get_layer('block14_sepconv2')\n",
    "last_output = last_layer.output\n",
    "\n",
    "\n",
    "x = GlobalMaxPooling2D()(last_output)\n",
    "\n",
    "x = Dense(512, activation='relu')(x)\n",
    "\n",
    "x = Dropout(0.5)(x)\n",
    "\n",
    "x = layers.Dense(1, activation='sigmoid')(x)\n",
    "\n",
    "model = Model(pre_model.input, x)"
   ]
  },
  {
   "cell_type": "markdown",
   "id": "530af6b7",
   "metadata": {},
   "source": [
    "# Compilation and Fitting"
   ]
  },
  {
   "cell_type": "code",
   "execution_count": null,
   "id": "8e9abec2",
   "metadata": {},
   "outputs": [],
   "source": [
    "model.compile(loss='binary_crossentropy',\n",
    "  optimizer=tf.keras.optimizers.RMSprop(learning_rate=0.00001),\n",
    "  metrics=['accuracy'])"
   ]
  },
  {
   "cell_type": "code",
   "execution_count": null,
   "id": "f230458f",
   "metadata": {},
   "outputs": [],
   "source": [
    "model.summary()"
   ]
  },
  {
   "cell_type": "code",
   "execution_count": null,
   "id": "60744dd7",
   "metadata": {},
   "outputs": [],
   "source": [
    "epochs =5\n",
    "model_fit = model.fit(train_set,\n",
    "                     epochs=epochs,\n",
    "                     validation_data= validation ,\n",
    "                     callbacks=[\n",
    "            tf.keras.callbacks.EarlyStopping(        \n",
    "            patience=3,\n",
    "            restore_best_weights=True)])"
   ]
  },
  {
   "cell_type": "markdown",
   "id": "838ed74f",
   "metadata": {},
   "source": [
    "# Chart of accuracy and loss"
   ]
  },
  {
   "cell_type": "code",
   "execution_count": null,
   "id": "4213010c",
   "metadata": {},
   "outputs": [],
   "source": [
    "acc = model_fit.history['accuracy']\n",
    "val_acc = model_fit.history['val_accuracy']\n",
    "\n",
    "loss = model_fit.history['loss']\n",
    "val_loss = model_fit.history['val_loss']\n",
    "\n",
    "epochs_range = range(epochs)\n",
    "\n",
    "plt.figure(figsize=(8, 8))\n",
    "plt.subplot(1, 2, 1)\n",
    "plt.plot(epochs_range, acc, label='Training Accuracy')\n",
    "plt.plot(epochs_range, val_acc, label='Validation Accuracy')\n",
    "plt.legend(loc='lower right')\n",
    "plt.title('Training and Validation Accuracy')\n",
    "\n",
    "plt.subplot(1, 2, 2)\n",
    "plt.plot(epochs_range, loss, label='Training Loss')\n",
    "plt.plot(epochs_range, val_loss, label='Validation Loss')\n",
    "plt.legend(loc='upper right')\n",
    "plt.title('Training and Validation Loss')\n",
    "plt.show()"
   ]
  },
  {
   "cell_type": "markdown",
   "id": "a6e74bf5",
   "metadata": {},
   "source": [
    "# Model use on Test Data"
   ]
  },
  {
   "cell_type": "code",
   "execution_count": null,
   "id": "c709967e",
   "metadata": {},
   "outputs": [],
   "source": [
    "dir_path = 'H:/Course Problems/CSE-438/AutismDataset/test'\n",
    "\n",
    "for i in os.listdir(dir_path):\n",
    "   img = image.load_img(dir_path+'//'+ i,target_size =(200,200))\n",
    "   plt.imshow(img)\n",
    "   plt.show()\n",
    "\n",
    "   X = image.img_to_array(img)\n",
    "   X = np.expand_dims(X, axis =0)\n",
    "   images =np.vstack([X])\n",
    "   val = model.predict(images)\n",
    "   \n",
    "   if 0.5>=val>=0:\n",
    "      print(\"The child is Autistic\")\n",
    "\n",
    "   elif 1>=val>0.5:\n",
    "      print(\"The child is not Autistic\")\n"
   ]
  },
  {
   "cell_type": "code",
   "execution_count": null,
   "id": "7481eaa6",
   "metadata": {},
   "outputs": [],
   "source": []
  }
 ],
 "metadata": {
  "kernelspec": {
   "display_name": "Python 3 (ipykernel)",
   "language": "python",
   "name": "python3"
  },
  "language_info": {
   "codemirror_mode": {
    "name": "ipython",
    "version": 3
   },
   "file_extension": ".py",
   "mimetype": "text/x-python",
   "name": "python",
   "nbconvert_exporter": "python",
   "pygments_lexer": "ipython3",
   "version": "3.10.2"
  }
 },
 "nbformat": 4,
 "nbformat_minor": 5
}
